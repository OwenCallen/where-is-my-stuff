{
 "cells": [
  {
   "cell_type": "code",
   "execution_count": 12,
   "metadata": {
    "scrolled": false
   },
   "outputs": [],
   "source": [
    "import os\n",
    "file_path = \"data/walets/\"\n",
    "names = os.listdir(file_path)\n",
    "\n",
    "i = 0\n",
    "for n in names:\n",
    "    old_name = file_path + n\n",
    "    new_name = file_path + str(i) + \"_wallets.jpeg\"\n",
    "    os.rename(old_name, new_name)\n",
    "    i+=1\n",
    "#     print(old_name, \"\\n\", new_name, \"\\n\")"
   ]
  },
  {
   "cell_type": "code",
   "execution_count": null,
   "metadata": {},
   "outputs": [],
   "source": []
  }
 ],
 "metadata": {
  "kernelspec": {
   "display_name": "Python 3",
   "language": "python",
   "name": "python3"
  },
  "language_info": {
   "codemirror_mode": {
    "name": "ipython",
    "version": 3
   },
   "file_extension": ".py",
   "mimetype": "text/x-python",
   "name": "python",
   "nbconvert_exporter": "python",
   "pygments_lexer": "ipython3",
   "version": "3.7.4"
  }
 },
 "nbformat": 4,
 "nbformat_minor": 2
}
